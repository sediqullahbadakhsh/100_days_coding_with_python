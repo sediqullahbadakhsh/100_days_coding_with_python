{
 "cells": [
  {
   "cell_type": "code",
   "execution_count": 1,
   "id": "6426d07f",
   "metadata": {},
   "outputs": [
    {
     "data": {
      "text/html": [
       "<div>\n",
       "<style scoped>\n",
       "    .dataframe tbody tr th:only-of-type {\n",
       "        vertical-align: middle;\n",
       "    }\n",
       "\n",
       "    .dataframe tbody tr th {\n",
       "        vertical-align: top;\n",
       "    }\n",
       "\n",
       "    .dataframe thead th {\n",
       "        text-align: right;\n",
       "    }\n",
       "</style>\n",
       "<table border=\"1\" class=\"dataframe\">\n",
       "  <thead>\n",
       "    <tr style=\"text-align: right;\">\n",
       "      <th></th>\n",
       "      <th>Region</th>\n",
       "    </tr>\n",
       "  </thead>\n",
       "  <tbody>\n",
       "    <tr>\n",
       "      <th>0</th>\n",
       "      <td>Region 2</td>\n",
       "    </tr>\n",
       "    <tr>\n",
       "      <th>1</th>\n",
       "      <td>Region 6</td>\n",
       "    </tr>\n",
       "    <tr>\n",
       "      <th>2</th>\n",
       "      <td>Region 3</td>\n",
       "    </tr>\n",
       "    <tr>\n",
       "      <th>3</th>\n",
       "      <td>Region 2</td>\n",
       "    </tr>\n",
       "    <tr>\n",
       "      <th>4</th>\n",
       "      <td>Region 3</td>\n",
       "    </tr>\n",
       "    <tr>\n",
       "      <th>...</th>\n",
       "      <td>...</td>\n",
       "    </tr>\n",
       "    <tr>\n",
       "      <th>1037</th>\n",
       "      <td>Region 6</td>\n",
       "    </tr>\n",
       "    <tr>\n",
       "      <th>1038</th>\n",
       "      <td>Region 1</td>\n",
       "    </tr>\n",
       "    <tr>\n",
       "      <th>1039</th>\n",
       "      <td>Region 4</td>\n",
       "    </tr>\n",
       "    <tr>\n",
       "      <th>1040</th>\n",
       "      <td>Region 6</td>\n",
       "    </tr>\n",
       "    <tr>\n",
       "      <th>1041</th>\n",
       "      <td>Region 6</td>\n",
       "    </tr>\n",
       "  </tbody>\n",
       "</table>\n",
       "<p>1042 rows × 1 columns</p>\n",
       "</div>"
      ],
      "text/plain": [
       "        Region\n",
       "0     Region 2\n",
       "1     Region 6\n",
       "2     Region 3\n",
       "3     Region 2\n",
       "4     Region 3\n",
       "...        ...\n",
       "1037  Region 6\n",
       "1038  Region 1\n",
       "1039  Region 4\n",
       "1040  Region 6\n",
       "1041  Region 6\n",
       "\n",
       "[1042 rows x 1 columns]"
      ]
     },
     "execution_count": 1,
     "metadata": {},
     "output_type": "execute_result"
    }
   ],
   "source": [
    "import pandas as pd\n",
    "import numpy as np\n",
    "\n",
    "Data = pd.read_csv('Region.csv')\n",
    "Data"
   ]
  },
  {
   "cell_type": "code",
   "execution_count": 6,
   "id": "611709e1",
   "metadata": {},
   "outputs": [
    {
     "data": {
      "text/html": [
       "<div>\n",
       "<style scoped>\n",
       "    .dataframe tbody tr th:only-of-type {\n",
       "        vertical-align: middle;\n",
       "    }\n",
       "\n",
       "    .dataframe tbody tr th {\n",
       "        vertical-align: top;\n",
       "    }\n",
       "\n",
       "    .dataframe thead th {\n",
       "        text-align: right;\n",
       "    }\n",
       "</style>\n",
       "<table border=\"1\" class=\"dataframe\">\n",
       "  <thead>\n",
       "    <tr style=\"text-align: right;\">\n",
       "      <th></th>\n",
       "      <th>Region</th>\n",
       "    </tr>\n",
       "  </thead>\n",
       "  <tbody>\n",
       "    <tr>\n",
       "      <th>0</th>\n",
       "      <td>Region 2</td>\n",
       "    </tr>\n",
       "    <tr>\n",
       "      <th>1</th>\n",
       "      <td>Region 6</td>\n",
       "    </tr>\n",
       "    <tr>\n",
       "      <th>2</th>\n",
       "      <td>Region 3</td>\n",
       "    </tr>\n",
       "    <tr>\n",
       "      <th>3</th>\n",
       "      <td>Region 2</td>\n",
       "    </tr>\n",
       "    <tr>\n",
       "      <th>4</th>\n",
       "      <td>Region 3</td>\n",
       "    </tr>\n",
       "    <tr>\n",
       "      <th>5</th>\n",
       "      <td>Region 1</td>\n",
       "    </tr>\n",
       "    <tr>\n",
       "      <th>6</th>\n",
       "      <td>Region 5</td>\n",
       "    </tr>\n",
       "    <tr>\n",
       "      <th>7</th>\n",
       "      <td>Region 6</td>\n",
       "    </tr>\n",
       "    <tr>\n",
       "      <th>8</th>\n",
       "      <td>Region 9</td>\n",
       "    </tr>\n",
       "    <tr>\n",
       "      <th>9</th>\n",
       "      <td>Region 6</td>\n",
       "    </tr>\n",
       "  </tbody>\n",
       "</table>\n",
       "</div>"
      ],
      "text/plain": [
       "     Region\n",
       "0  Region 2\n",
       "1  Region 6\n",
       "2  Region 3\n",
       "3  Region 2\n",
       "4  Region 3\n",
       "5  Region 1\n",
       "6  Region 5\n",
       "7  Region 6\n",
       "8  Region 9\n",
       "9  Region 6"
      ]
     },
     "execution_count": 6,
     "metadata": {},
     "output_type": "execute_result"
    }
   ],
   "source": [
    "Data.head(10)"
   ]
  },
  {
   "cell_type": "code",
   "execution_count": 3,
   "id": "c9bf6e8c",
   "metadata": {},
   "outputs": [
    {
     "data": {
      "text/html": [
       "<div>\n",
       "<style scoped>\n",
       "    .dataframe tbody tr th:only-of-type {\n",
       "        vertical-align: middle;\n",
       "    }\n",
       "\n",
       "    .dataframe tbody tr th {\n",
       "        vertical-align: top;\n",
       "    }\n",
       "\n",
       "    .dataframe thead th {\n",
       "        text-align: right;\n",
       "    }\n",
       "</style>\n",
       "<table border=\"1\" class=\"dataframe\">\n",
       "  <thead>\n",
       "    <tr style=\"text-align: right;\">\n",
       "      <th></th>\n",
       "      <th>Region</th>\n",
       "    </tr>\n",
       "  </thead>\n",
       "  <tbody>\n",
       "    <tr>\n",
       "      <th>1037</th>\n",
       "      <td>Region 6</td>\n",
       "    </tr>\n",
       "    <tr>\n",
       "      <th>1038</th>\n",
       "      <td>Region 1</td>\n",
       "    </tr>\n",
       "    <tr>\n",
       "      <th>1039</th>\n",
       "      <td>Region 4</td>\n",
       "    </tr>\n",
       "    <tr>\n",
       "      <th>1040</th>\n",
       "      <td>Region 6</td>\n",
       "    </tr>\n",
       "    <tr>\n",
       "      <th>1041</th>\n",
       "      <td>Region 6</td>\n",
       "    </tr>\n",
       "  </tbody>\n",
       "</table>\n",
       "</div>"
      ],
      "text/plain": [
       "        Region\n",
       "1037  Region 6\n",
       "1038  Region 1\n",
       "1039  Region 4\n",
       "1040  Region 6\n",
       "1041  Region 6"
      ]
     },
     "execution_count": 3,
     "metadata": {},
     "output_type": "execute_result"
    }
   ],
   "source": [
    "Data.tail()"
   ]
  },
  {
   "cell_type": "code",
   "execution_count": 5,
   "id": "94ee7875",
   "metadata": {},
   "outputs": [
    {
     "data": {
      "text/plain": [
       "Region    Region 2Region 6Region 3Region 2Region 3Region...\n",
       "dtype: object"
      ]
     },
     "execution_count": 5,
     "metadata": {},
     "output_type": "execute_result"
    }
   ],
   "source": [
    "Data.sum()"
   ]
  },
  {
   "cell_type": "code",
   "execution_count": 8,
   "id": "5fcb3e7f",
   "metadata": {},
   "outputs": [],
   "source": [
    "location_data = pd.read_csv('Location.csv').squeeze(\"columns\")"
   ]
  },
  {
   "cell_type": "code",
   "execution_count": 9,
   "id": "6eb86585",
   "metadata": {},
   "outputs": [
    {
     "data": {
      "text/plain": [
       "pandas.core.series.Series"
      ]
     },
     "execution_count": 9,
     "metadata": {},
     "output_type": "execute_result"
    }
   ],
   "source": [
    "type(location_data)"
   ]
  },
  {
   "cell_type": "code",
   "execution_count": 10,
   "id": "4df96d6c",
   "metadata": {},
   "outputs": [
    {
     "data": {
      "text/plain": [
       "1043"
      ]
     },
     "execution_count": 10,
     "metadata": {},
     "output_type": "execute_result"
    }
   ],
   "source": [
    "len(location_data)"
   ]
  },
  {
   "cell_type": "code",
   "execution_count": 11,
   "id": "efb562e9",
   "metadata": {},
   "outputs": [
    {
     "data": {
      "text/plain": [
       "count            1043\n",
       "unique            296\n",
       "top       Location 25\n",
       "freq               31\n",
       "Name: Location, dtype: object"
      ]
     },
     "execution_count": 11,
     "metadata": {},
     "output_type": "execute_result"
    }
   ],
   "source": [
    "location_data.describe()"
   ]
  },
  {
   "cell_type": "code",
   "execution_count": 13,
   "id": "2c441569",
   "metadata": {},
   "outputs": [
    {
     "data": {
      "text/plain": [
       "296"
      ]
     },
     "execution_count": 13,
     "metadata": {},
     "output_type": "execute_result"
    }
   ],
   "source": [
    "data = location_data.nunique()\n",
    "data"
   ]
  },
  {
   "cell_type": "code",
   "execution_count": 14,
   "id": "f0f9855b",
   "metadata": {},
   "outputs": [
    {
     "data": {
      "text/plain": [
       "array(['Location 3', 'Location 6', 'Location 8', 'Location 26',\n",
       "       'Location 34', 'Location 25', 'Location 46', 'Location 156',\n",
       "       'Location 21', 'Location 13', 'Location 579', 'Location 602',\n",
       "       'Location 10', 'Location 44', 'Location 30', 'Location 48',\n",
       "       'Location 196', 'Location 64', 'Location 91', 'Location 62',\n",
       "       'Location 75', 'Location 42', 'Location 233', 'Location 95',\n",
       "       'Location 78', 'Location 61', 'Location 87', 'Location 19',\n",
       "       'Location 115', 'Location 350', 'Location 377', 'Location 17',\n",
       "       'Location 113', 'Location 81', 'Location 58', 'Location 212',\n",
       "       'Location 53', 'Location 337', 'Location 41', 'Location 632',\n",
       "       'Location 73', 'Location 214', 'Location 218', 'Location 38',\n",
       "       'Location 172', 'Location 197', 'Location 101', 'Location 185',\n",
       "       'Location 129', 'Location 235', 'Location 142', 'Location 50',\n",
       "       'Location 76', 'Location 11', 'Location 33', 'Location 22',\n",
       "       'Location 145', 'Location 203', 'Location 94', 'Location 573',\n",
       "       'Location 27', 'Location 186', 'Location 4', 'Location 70',\n",
       "       'Location 45', 'Location 262', 'Location 111', 'Location 84',\n",
       "       'Location 108', 'Location 7', 'Location 74', 'Location 450',\n",
       "       'Location 47', 'Location 37', 'Location 43', 'Location 286',\n",
       "       'Location 89', 'Location 24', 'Location 97', 'Location 144',\n",
       "       'Location 40', 'Location 128', 'Location 169', 'Location 399',\n",
       "       'Location 23', 'Location 191', 'Location 178', 'Location 510',\n",
       "       'Location 600', 'Location 188', 'Location 67', 'Location 49',\n",
       "       'Location 29', 'Location 222', 'Location 386', 'Location 88',\n",
       "       'Location 104', 'Location 405', 'Location 114', 'Location 259',\n",
       "       'Location 182', 'Location 12', 'Location 228', 'Location 149',\n",
       "       'Location 90', 'Location 109', 'Location 441', 'Location 421',\n",
       "       'Location 641', 'Location 195', 'Location 20', 'Location 161',\n",
       "       'Location 117', 'Location 200', 'Location 106', 'Location 31',\n",
       "       'Location 122', 'Location 541', 'Location 495', 'Location 193',\n",
       "       'Location 39', 'Location 9', 'Location 86', 'Location 107',\n",
       "       'Location 198', 'Location 318', 'Location 135', 'Location 177',\n",
       "       'Location 32', 'Location 591', 'Location 488', 'Location 418',\n",
       "       'Location 587', 'Location 454', 'Location 543', 'Location 489',\n",
       "       'Location 60', 'Location 52', 'Location 548', 'Location 15',\n",
       "       'Location 240', 'Location 658', 'Location 209', 'Location 151',\n",
       "       'Location 192', 'Location 364', 'Location 18', 'Location 503',\n",
       "       'Location 482', 'Location 460', 'Location 71', 'Location 69',\n",
       "       'Location 258', 'Location 204', 'Location 124', 'Location 168',\n",
       "       'Location 35', 'Location 296', 'Location 136', 'Location 28',\n",
       "       'Location 153', 'Location 99', 'Location 132', 'Location 427',\n",
       "       'Location 118', 'Location 127', 'Location 159', 'Location 154',\n",
       "       'Location 175', 'Location 120', 'Location 82', 'Location 152',\n",
       "       'Location 56', 'Location 282', 'Location 566', 'Location 365',\n",
       "       'Location 353', 'Location 66', 'Location 2', 'Location 323',\n",
       "       'Location 473', 'Location 206', 'Location 57', 'Location 68',\n",
       "       'Location 166', 'Location 1', 'Location 227', 'Location 79',\n",
       "       'Location 642', 'Location 105', 'Location 644', 'Location 547',\n",
       "       'Location 637', 'Location 59', 'Location 574', 'Location 529',\n",
       "       'Location 554', 'Location 275', 'Location 589', 'Location 160',\n",
       "       'Location 410', 'Location 146', 'Location 221', 'Location 265',\n",
       "       'Location 569', 'Location 157', 'Location 648', 'Location 165',\n",
       "       'Location 651', 'Location 266', 'Location 77', 'Location 158',\n",
       "       'Location 336', 'Location 72', 'Location 463', 'Location 253',\n",
       "       'Location 5', 'Location 431', 'Location 515', 'Location 226',\n",
       "       'Location 140', 'Location 110', 'Location 202', 'Location 634',\n",
       "       'Location 138', 'Location 217', 'Location 443', 'Location 627',\n",
       "       'Location 123', 'Location 528', 'Location 357', 'Location 187',\n",
       "       'Location 315', 'Location 112', 'Location 302', 'Location 194',\n",
       "       'Location 332', 'Location 208', 'Location 179', 'Location 199',\n",
       "       'Location 201', 'Location 174', 'Location 474', 'Location 184',\n",
       "       'Location 63', 'Location 512', 'Location 403', 'Location 436',\n",
       "       'Location 210', 'Location 468', 'Location 464', 'Location 98',\n",
       "       'Location 102', 'Location 325', 'Location 267', 'Location 173',\n",
       "       'Location 617', 'Location 141', 'Location 300', 'Location 216',\n",
       "       'Location 506', 'Location 647', 'Location 402', 'Location 239',\n",
       "       'Location 54', 'Location 137', 'Location 477', 'Location 586',\n",
       "       'Location 472', 'Location 374', 'Location 458', 'Location 180',\n",
       "       'Location 653', 'Location 16', 'Location 612', 'Location 505',\n",
       "       'Location 631', 'Location 299', 'Location 65', 'Location 342',\n",
       "       'Location 155', 'Location 511', 'Location 461', 'Location 244',\n",
       "       'Location 207', 'Location 597', 'Location 352', 'Location 533',\n",
       "       'Location 384', 'Location 80', 'Location 171', 'Location 143',\n",
       "       'Location 576', 'Location 139', 'Location 125', 'Location 181'],\n",
       "      dtype=object)"
      ]
     },
     "execution_count": 14,
     "metadata": {},
     "output_type": "execute_result"
    }
   ],
   "source": [
    "location_data.unique()"
   ]
  },
  {
   "cell_type": "code",
   "execution_count": 17,
   "id": "6976f324",
   "metadata": {},
   "outputs": [
    {
     "data": {
      "text/plain": [
       "method"
      ]
     },
     "execution_count": 17,
     "metadata": {},
     "output_type": "execute_result"
    }
   ],
   "source": [
    "type(location_data.unique)"
   ]
  },
  {
   "cell_type": "code",
   "execution_count": 24,
   "id": "27808128",
   "metadata": {},
   "outputs": [
    {
     "data": {
      "text/plain": [
       "185      Location 1\n",
       "12      Location 10\n",
       "46     Location 101\n",
       "252    Location 102\n",
       "96     Location 104\n",
       "           ...     \n",
       "58      Location 94\n",
       "23      Location 95\n",
       "78      Location 97\n",
       "251     Location 98\n",
       "161     Location 99\n",
       "Length: 296, dtype: object"
      ]
     },
     "execution_count": 24,
     "metadata": {},
     "output_type": "execute_result"
    }
   ],
   "source": [
    "unique_data = location_data.unique()\n",
    "unique_series = pd.Series(unique_data)\n",
    "unique_series.sort_values()"
   ]
  },
  {
   "cell_type": "code",
   "execution_count": null,
   "id": "1c293ed9",
   "metadata": {},
   "outputs": [],
   "source": []
  }
 ],
 "metadata": {
  "kernelspec": {
   "display_name": "Python 3 (ipykernel)",
   "language": "python",
   "name": "python3"
  },
  "language_info": {
   "codemirror_mode": {
    "name": "ipython",
    "version": 3
   },
   "file_extension": ".py",
   "mimetype": "text/x-python",
   "name": "python",
   "nbconvert_exporter": "python",
   "pygments_lexer": "ipython3",
   "version": "3.9.13"
  }
 },
 "nbformat": 4,
 "nbformat_minor": 5
}
