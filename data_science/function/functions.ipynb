{
 "cells": [
  {
   "cell_type": "code",
   "execution_count": 2,
   "id": "bf19558d",
   "metadata": {},
   "outputs": [
    {
     "name": "stdout",
     "output_type": "stream",
     "text": [
      "My first function\n"
     ]
    }
   ],
   "source": [
    "def simple():\n",
    "    print(\"My first function\")\n",
    "simple()"
   ]
  },
  {
   "cell_type": "code",
   "execution_count": 4,
   "id": "27328f66",
   "metadata": {},
   "outputs": [
    {
     "data": {
      "text/plain": [
       "14"
      ]
     },
     "execution_count": 4,
     "metadata": {},
     "output_type": "execute_result"
    }
   ],
   "source": [
    "def plus_ten(a):\n",
    "    return a+10\n",
    "plus_ten(4)"
   ]
  },
  {
   "cell_type": "code",
   "execution_count": 5,
   "id": "2b86ca2c",
   "metadata": {},
   "outputs": [
    {
     "data": {
      "text/plain": [
       "15"
      ]
     },
     "execution_count": 5,
     "metadata": {},
     "output_type": "execute_result"
    }
   ],
   "source": [
    "plus_ten(5)"
   ]
  },
  {
   "cell_type": "code",
   "execution_count": 8,
   "id": "e15063e9",
   "metadata": {},
   "outputs": [
    {
     "name": "stdout",
     "output_type": "stream",
     "text": [
      "40\n"
     ]
    }
   ],
   "source": [
    "def plus_ten(a):\n",
    "    result = a + 10\n",
    "    print (result)\n",
    "    # or return result to return the value\n",
    "plus_ten(30)"
   ]
  },
  {
   "cell_type": "code",
   "execution_count": 9,
   "id": "ea901aed",
   "metadata": {},
   "outputs": [
    {
     "data": {
      "text/plain": [
       "250"
      ]
     },
     "execution_count": 9,
     "metadata": {},
     "output_type": "execute_result"
    }
   ],
   "source": [
    "# function within function\n",
    "def wage(w_hours):\n",
    "    return w_hours * 25\n",
    "\n",
    "def with_bonus(w_hours):\n",
    "    return wage(w_hours) + 50\n",
    "with_bonus(8)"
   ]
  },
  {
   "cell_type": "code",
   "execution_count": 10,
   "id": "57b735fb",
   "metadata": {},
   "outputs": [
    {
     "data": {
      "text/plain": [
       "120"
      ]
     },
     "execution_count": 10,
     "metadata": {},
     "output_type": "execute_result"
    }
   ],
   "source": [
    "def add_10(m):\n",
    "    if m>=100:\n",
    "        m = m+10\n",
    "        return m\n",
    "    else:\n",
    "        return \"Save more!\"\n",
    "add_10(110)"
   ]
  },
  {
   "cell_type": "code",
   "execution_count": 11,
   "id": "b18c6868",
   "metadata": {},
   "outputs": [
    {
     "name": "stdout",
     "output_type": "stream",
     "text": [
      "8\n"
     ]
    }
   ],
   "source": [
    "def add(a,b,c):\n",
    "    result = a + b + c\n",
    "    print(result)\n",
    "add(1,3,4)"
   ]
  },
  {
   "cell_type": "code",
   "execution_count": 13,
   "id": "f2df3452",
   "metadata": {},
   "outputs": [
    {
     "data": {
      "text/plain": [
       "3.56"
      ]
     },
     "execution_count": 13,
     "metadata": {},
     "output_type": "execute_result"
    }
   ],
   "source": [
    "# Built-in Functions\n",
    "# finding type of variables\n",
    "type(10)\n",
    "# max fining the highest number from a sequence of numbers\n",
    "max(10,20,30)\n",
    "# min finding the smallest number ....\n",
    "min(10,20,30)\n",
    "# getting absolut value\n",
    "z = -20\n",
    "abs(z)\n",
    "\n",
    "# summing numbers\n",
    "list_1 = [1,2,3,4]\n",
    "sum(list_1)\n",
    "\n",
    "# rounding numbers round(number,by numer)\n",
    "round(3.555,2)\n",
    "\n",
    "# finding power in tow ways\n",
    "2**10\n",
    "pow(2,10)\n",
    "\n",
    "# finding length\n",
    "len('Mathematics')"
   ]
  },
  {
   "cell_type": "code",
   "execution_count": null,
   "id": "ad95b5bd",
   "metadata": {},
   "outputs": [],
   "source": []
  }
 ],
 "metadata": {
  "kernelspec": {
   "display_name": "Python 3 (ipykernel)",
   "language": "python",
   "name": "python3"
  },
  "language_info": {
   "codemirror_mode": {
    "name": "ipython",
    "version": 3
   },
   "file_extension": ".py",
   "mimetype": "text/x-python",
   "name": "python",
   "nbconvert_exporter": "python",
   "pygments_lexer": "ipython3",
   "version": "3.9.13"
  }
 },
 "nbformat": 4,
 "nbformat_minor": 5
}
